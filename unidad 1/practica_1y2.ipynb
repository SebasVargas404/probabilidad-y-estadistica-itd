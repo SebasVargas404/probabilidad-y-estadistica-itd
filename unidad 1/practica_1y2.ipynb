{
  "nbformat": 4,
  "nbformat_minor": 0,
  "metadata": {
    "colab": {
      "provenance": []
    },
    "kernelspec": {
      "name": "python3",
      "display_name": "Python 3"
    },
    "language_info": {
      "name": "python"
    }
  },
  "cells": [
    {
      "cell_type": "code",
      "source": [
        "from statistics import *\n",
        "grupoa=[70,70,65,90,100,95,45,80,73,20,100,96]\n",
        "print (grupoa)"
      ],
      "metadata": {
        "colab": {
          "base_uri": "https://localhost:8080/"
        },
        "id": "KRS2K57ZTvfW",
        "outputId": "d1644932-d09b-44df-bb1b-16d55be7b827"
      },
      "execution_count": 3,
      "outputs": [
        {
          "output_type": "stream",
          "name": "stdout",
          "text": [
            "[70, 70, 65, 90, 100, 95, 45, 80, 73, 20, 100, 96]\n"
          ]
        }
      ]
    },
    {
      "cell_type": "code",
      "source": [
        "type(grupoa)"
      ],
      "metadata": {
        "colab": {
          "base_uri": "https://localhost:8080/"
        },
        "id": "BeqkXZgVUTtW",
        "outputId": "b93a191c-911f-403c-8f17-e486637ceaaf"
      },
      "execution_count": 4,
      "outputs": [
        {
          "output_type": "execute_result",
          "data": {
            "text/plain": [
              "list"
            ]
          },
          "metadata": {},
          "execution_count": 4
        }
      ]
    },
    {
      "cell_type": "code",
      "source": [
        "promedio= sum(grupoa)/len(grupoa)\n",
        "print (promedio)"
      ],
      "metadata": {
        "colab": {
          "base_uri": "https://localhost:8080/"
        },
        "id": "LE5vIub1UYpR",
        "outputId": "8961bbf3-091b-43d8-9eed-4ac55fe55287"
      },
      "execution_count": 12,
      "outputs": [
        {
          "output_type": "stream",
          "name": "stdout",
          "text": [
            "75.33333333333333\n"
          ]
        }
      ]
    },
    {
      "cell_type": "code",
      "source": [
        "promedio2=mean(grupoa)\n",
        "print (promedio2)"
      ],
      "metadata": {
        "colab": {
          "base_uri": "https://localhost:8080/"
        },
        "id": "0cEjXr58U1Za",
        "outputId": "44d3b3fc-bd3a-4082-e5d9-6b1118d3939b"
      },
      "execution_count": 13,
      "outputs": [
        {
          "output_type": "stream",
          "name": "stdout",
          "text": [
            "75.33333333333333\n"
          ]
        }
      ]
    },
    {
      "cell_type": "code",
      "source": [
        "mediana=median(grupoa)\n",
        "print (mediana)"
      ],
      "metadata": {
        "colab": {
          "base_uri": "https://localhost:8080/"
        },
        "id": "VkZHZSwjVpCH",
        "outputId": "b3d590ce-31cb-411b-d2c3-ba087050d42b"
      },
      "execution_count": 14,
      "outputs": [
        {
          "output_type": "stream",
          "name": "stdout",
          "text": [
            "76.5\n"
          ]
        }
      ]
    },
    {
      "cell_type": "code",
      "source": [
        "moda=mode(grupoa)\n",
        "print (moda)"
      ],
      "metadata": {
        "colab": {
          "base_uri": "https://localhost:8080/"
        },
        "id": "nnvj6CW2WR26",
        "outputId": "fc462751-48e8-4fcb-f504-4677485f4839"
      },
      "execution_count": 15,
      "outputs": [
        {
          "output_type": "stream",
          "name": "stdout",
          "text": [
            "70\n"
          ]
        }
      ]
    },
    {
      "cell_type": "code",
      "source": [
        "moda2=multimode(grupoa)\n",
        "print (moda2)"
      ],
      "metadata": {
        "colab": {
          "base_uri": "https://localhost:8080/"
        },
        "id": "nQjYjcYxXQgl",
        "outputId": "25256736-cfeb-4f1f-9064-7bd77cfdb253"
      },
      "execution_count": 17,
      "outputs": [
        {
          "output_type": "stream",
          "name": "stdout",
          "text": [
            "[70, 100]\n"
          ]
        }
      ]
    },
    {
      "cell_type": "markdown",
      "source": [
        "Ejemplo 2: Tiempos de 100 metros de 12 alumnos"
      ],
      "metadata": {
        "id": "gRDmDJ6TYfTZ"
      }
    },
    {
      "cell_type": "code",
      "source": [
        "tiempos100mts=[15.10,17.20,14.69,13.27,22.15,18.71,19.15,20.65,15.1,17.2]\n",
        "print(tiempos100mts)"
      ],
      "metadata": {
        "colab": {
          "base_uri": "https://localhost:8080/"
        },
        "id": "I_9CA8-MXrpp",
        "outputId": "de51c657-99ab-4d6e-a3b3-9c1ca9207af4"
      },
      "execution_count": 19,
      "outputs": [
        {
          "output_type": "stream",
          "name": "stdout",
          "text": [
            "[15.1, 17.2, 14.69, 13.27, 22.15, 18.71, 19.15, 20.65, 15.1, 17.2]\n"
          ]
        }
      ]
    },
    {
      "cell_type": "code",
      "source": [
        "print(\"El tiempo promedio de los corredores es →\" , mean(tiempos100mts))"
      ],
      "metadata": {
        "colab": {
          "base_uri": "https://localhost:8080/"
        },
        "id": "6MHKl38pZhLJ",
        "outputId": "329889ce-d51b-4266-ae9b-ad92bea58c66"
      },
      "execution_count": 24,
      "outputs": [
        {
          "output_type": "stream",
          "name": "stdout",
          "text": [
            "El tiempo promedio de los corredores es → 17.322\n"
          ]
        }
      ]
    },
    {
      "cell_type": "code",
      "source": [
        "mediana=median(tiempos100mts)\n",
        "print (\"La media de tiempo de los corredores es →\",mediana)"
      ],
      "metadata": {
        "colab": {
          "base_uri": "https://localhost:8080/"
        },
        "id": "h29I098JZ0Kt",
        "outputId": "2148add4-3ca0-4bfa-87f0-6cd5aa8a07a3"
      },
      "execution_count": 25,
      "outputs": [
        {
          "output_type": "stream",
          "name": "stdout",
          "text": [
            "La media de tiempo de los corredores es → 17.2\n"
          ]
        }
      ]
    },
    {
      "cell_type": "code",
      "source": [
        "moda=mode(tiempos100mts)\n",
        "print (\"La moda de tiempo de los corredores es →\",moda)"
      ],
      "metadata": {
        "colab": {
          "base_uri": "https://localhost:8080/"
        },
        "id": "xO9dPDduaMD_",
        "outputId": "5e962200-925b-4017-dc25-336204b7489a"
      },
      "execution_count": 26,
      "outputs": [
        {
          "output_type": "stream",
          "name": "stdout",
          "text": [
            "La moda de tiempo de los corredores es → 15.1\n"
          ]
        }
      ]
    },
    {
      "cell_type": "code",
      "source": [
        "multimodas=multimode(tiempos100mts)\n",
        "print (\"Las modas de tiempo de los corredores son →\",multimodas)"
      ],
      "metadata": {
        "colab": {
          "base_uri": "https://localhost:8080/"
        },
        "id": "_7PKnOGgasbe",
        "outputId": "a77f78b7-d710-4625-dcfa-bf237b123202"
      },
      "execution_count": 27,
      "outputs": [
        {
          "output_type": "stream",
          "name": "stdout",
          "text": [
            "Las modas de tiempo de los corredores son → [15.1, 17.2]\n"
          ]
        }
      ]
    },
    {
      "cell_type": "markdown",
      "source": [
        "Ejemplo 3:Histograma de 2 grupos"
      ],
      "metadata": {
        "id": "OCN_Sqe1brqy"
      }
    },
    {
      "cell_type": "code",
      "source": [
        "import random"
      ],
      "metadata": {
        "id": "eqDSIwr-bVVY"
      },
      "execution_count": 43,
      "outputs": []
    },
    {
      "cell_type": "code",
      "source": [
        "fabrica1=[]\n",
        "for i in range(100):\n",
        " numero_aleatorio = round(random.uniform(50,100),2)\n",
        " fabrica1.append(numero_aleatorio)\n",
        "print (fabrica1)"
      ],
      "metadata": {
        "colab": {
          "base_uri": "https://localhost:8080/"
        },
        "id": "eqyq6KPrb4C7",
        "outputId": "2475f29d-bf90-4845-a821-7fa9e397b0b9"
      },
      "execution_count": 44,
      "outputs": [
        {
          "output_type": "stream",
          "name": "stdout",
          "text": [
            "[54.76, 70.26, 90.09, 67.84, 52.71, 78.62, 94.69, 52.43, 78.34, 58.51, 93.75, 55.74, 51.52, 96.74, 72.85, 73.09, 83.5, 70.04, 59.25, 90.07, 82.93, 97.83, 77.8, 62.29, 58.15, 87.01, 83.7, 69.03, 53.25, 78.09, 61.28, 57.76, 72.31, 73.45, 86.8, 98.42, 77.05, 98.17, 52.42, 95.66, 52.99, 50.48, 71.16, 86.17, 80.93, 91.28, 55.4, 82.28, 74.73, 54.56, 70.58, 68.27, 96.36, 92.98, 60.16, 85.07, 81.26, 90.7, 69.56, 52.55, 60.37, 64.62, 53.09, 56.77, 90.2, 55.65, 77.72, 96.53, 88.1, 96.76, 53.15, 66.19, 83.53, 96.61, 99.07, 75.64, 60.81, 54.94, 93.37, 69.85, 69.74, 62.54, 58.82, 58.65, 80.77, 63.39, 57.52, 84.26, 82.55, 52.48, 68.79, 57.83, 54.17, 83.46, 89.17, 96.35, 70.67, 99.18, 86.82, 94.46]\n"
          ]
        }
      ]
    },
    {
      "cell_type": "code",
      "source": [
        "fabrica2=[]\n",
        "for i in range(100):\n",
        " numero_aleatorio2 = round(random.uniform(50,100),2)\n",
        " fabrica2.append(numero_aleatorio2)\n",
        "print (fabrica2)"
      ],
      "metadata": {
        "colab": {
          "base_uri": "https://localhost:8080/"
        },
        "id": "VMX9xn_2cSgm",
        "outputId": "5796b2c4-8fa5-4fb0-c48c-d0565ea20278"
      },
      "execution_count": 49,
      "outputs": [
        {
          "output_type": "stream",
          "name": "stdout",
          "text": [
            "[58.3, 51.94, 96.63, 96.76, 94.57, 66.49, 74.14, 75.57, 94.16, 65.51, 84.24, 77.19, 74.36, 54.79, 81.0, 75.51, 94.9, 92.69, 87.39, 93.28, 78.04, 99.64, 62.18, 74.55, 50.56, 62.19, 96.06, 59.52, 88.33, 63.4, 94.25, 91.54, 86.5, 84.83, 77.89, 67.91, 93.76, 55.79, 77.98, 91.6, 90.04, 68.21, 97.07, 55.21, 73.2, 56.42, 53.69, 93.04, 75.6, 51.62, 90.76, 95.36, 81.67, 93.49, 96.4, 58.28, 71.27, 56.6, 66.2, 83.63, 77.38, 99.39, 78.91, 54.87, 56.35, 85.83, 91.46, 77.93, 88.03, 72.42, 96.85, 64.62, 65.09, 58.41, 76.06, 89.86, 73.11, 62.52, 56.22, 93.71, 66.68, 78.55, 96.87, 78.96, 66.31, 64.02, 83.39, 61.43, 78.08, 84.36, 97.24, 55.38, 79.15, 82.08, 76.08, 98.7, 94.83, 89.77, 59.4, 99.83]\n"
          ]
        }
      ]
    },
    {
      "cell_type": "code",
      "source": [
        "import matplotlib.pyplot as plt\n",
        "plt.hist(fabrica1)\n",
        "plt.title(\"Produccion de la fabrica 1\")"
      ],
      "metadata": {
        "colab": {
          "base_uri": "https://localhost:8080/",
          "height": 469
        },
        "id": "CTB9bdo4dTi-",
        "outputId": "49cfe65e-7d19-43d7-91fb-e31a24742040"
      },
      "execution_count": 50,
      "outputs": [
        {
          "output_type": "execute_result",
          "data": {
            "text/plain": [
              "Text(0.5, 1.0, 'Produccion de la fabrica 1')"
            ]
          },
          "metadata": {},
          "execution_count": 50
        },
        {
          "output_type": "display_data",
          "data": {
            "text/plain": [
              "<Figure size 640x480 with 1 Axes>"
            ],
            "image/png": "[encoded data removed]"
          },
          "metadata": {}
        }
      ]
    },
    {
      "cell_type": "code",
      "source": [
        "plt.hist(fabrica2)\n",
        "plt.title(\"Produccion de la fabrica 2\")"
      ],
      "metadata": {
        "colab": {
          "base_uri": "https://localhost:8080/",
          "height": 469
        },
        "id": "Ecx4MJM4eNKC",
        "outputId": "e0cea15c-3548-4e90-a46e-d26ec6ccd26e"
      },
      "execution_count": 51,
      "outputs": [
        {
          "output_type": "execute_result",
          "data": {
            "text/plain": [
              "Text(0.5, 1.0, 'Produccion de la fabrica 2')"
            ]
          },
          "metadata": {},
          "execution_count": 51
        },
        {
          "output_type": "display_data",
          "data": {
            "text/plain": [
              "<Figure size 640x480 with 1 Axes>"
            ],
            "image/png": "[encoded data removed]"
          },
          "metadata": {}
        }
      ]
    },
    {
      "cell_type": "code",
      "source": [],
      "metadata": {
        "id": "SZlwTZ4RefsF"
      },
      "execution_count": null,
      "outputs": []
    }
  ]
}