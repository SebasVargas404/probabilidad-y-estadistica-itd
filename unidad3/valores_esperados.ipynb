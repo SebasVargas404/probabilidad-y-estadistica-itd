{
  "nbformat": 4,
  "nbformat_minor": 0,
  "metadata": {
    "colab": {
      "provenance": []
    },
    "kernelspec": {
      "name": "python3",
      "display_name": "Python 3"
    },
    "language_info": {
      "name": "python"
    }
  },
  "cells": [
    {
      "cell_type": "code",
      "execution_count": 1,
      "metadata": {
        "id": "sfns5JIVag7h"
      },
      "outputs": [],
      "source": [
        "import numpy as np\n",
        "from scipy.stats import binom"
      ]
    },
    {
      "cell_type": "markdown",
      "source": [
        "practica 1"
      ],
      "metadata": {
        "id": "RtVR4nc6aidy"
      }
    },
    {
      "cell_type": "code",
      "source": [
        "X = np.array([490000, -10000])\n",
        "\n",
        "P = np.array([0.005, 0.995])\n",
        "\n",
        "valor_esperado = np.sum(X * P)\n",
        "\n",
        "print(f\"El valor esperado es: {valor_esperado} mil dólares\")"
      ],
      "metadata": {
        "colab": {
          "base_uri": "https://localhost:8080/"
        },
        "id": "tOuo1JvdaiFD",
        "outputId": "bb6f9fea-9609-454d-ec18-de8cf8fc9e4c"
      },
      "execution_count": 2,
      "outputs": [
        {
          "output_type": "stream",
          "name": "stdout",
          "text": [
            "El valor esperado es: -7500.0 mil dólares\n"
          ]
        }
      ]
    },
    {
      "cell_type": "markdown",
      "source": [
        "practica 2"
      ],
      "metadata": {
        "id": "adsHcMI6asNY"
      }
    },
    {
      "cell_type": "code",
      "source": [
        "X = np.array([5, 305])\n",
        "\n",
        "P = np.array([0.95, 0.05])\n",
        "\n",
        "costo_esperado = np.sum(X * P)\n",
        "\n",
        "print(f\"El costo total esperado del viaje es: {costo_esperado} euros\")"
      ],
      "metadata": {
        "colab": {
          "base_uri": "https://localhost:8080/"
        },
        "id": "P1dISReSawq4",
        "outputId": "c7eaf545-09da-4e88-f435-4434f9a0dcf0"
      },
      "execution_count": 3,
      "outputs": [
        {
          "output_type": "stream",
          "name": "stdout",
          "text": [
            "El costo total esperado del viaje es: 20.0 euros\n"
          ]
        }
      ]
    },
    {
      "cell_type": "markdown",
      "source": [
        "practica 3"
      ],
      "metadata": {
        "id": "REOPJZ0WbmdP"
      }
    },
    {
      "cell_type": "code",
      "source": [
        "valores = np.array([1, 2, 3, 4, 5, 6])\n",
        "\n",
        "probabilidades = np.full(6, 1/6)\n",
        "\n",
        "valor_esperado = np.sum(valores * probabilidades)\n",
        "\n",
        "print(\"El valor esperado del dado es:\", valor_esperado)"
      ],
      "metadata": {
        "colab": {
          "base_uri": "https://localhost:8080/"
        },
        "id": "j4aNwVgWbmBI",
        "outputId": "06c94f03-b431-49ef-9823-db6682a92542"
      },
      "execution_count": 4,
      "outputs": [
        {
          "output_type": "stream",
          "name": "stdout",
          "text": [
            "El valor esperado del dado es: 3.5\n"
          ]
        }
      ]
    },
    {
      "cell_type": "code",
      "source": [
        "print(\"¿El número 4 tiene más probabilidad que el 6?\", 1/6 > 1/6)\n",
        "\n",
        "print(\"¿3.5 puede ser un resultado?\", 3.5 in valores)\n",
        "\n",
        "simulaciones = np.random.choice(valores, size=100000)\n",
        "promedio = np.mean(simulaciones)\n",
        "print(\"Promedio de muchos lanzamientos:\", promedio)"
      ],
      "metadata": {
        "colab": {
          "base_uri": "https://localhost:8080/"
        },
        "id": "Ouvi1AXnbudq",
        "outputId": "7a32ac4e-8be0-4937-eecb-c26b6cd1cc1d"
      },
      "execution_count": 5,
      "outputs": [
        {
          "output_type": "stream",
          "name": "stdout",
          "text": [
            "¿El número 4 tiene más probabilidad que el 6? False\n",
            "¿3.5 puede ser un resultado? False\n",
            "Promedio de muchos lanzamientos: 3.50056\n"
          ]
        }
      ]
    },
    {
      "cell_type": "markdown",
      "source": [
        "practica 4"
      ],
      "metadata": {
        "id": "-1nTsov3b72W"
      }
    },
    {
      "cell_type": "code",
      "source": [
        "ganancia_dragones = 10\n",
        "perdida_tortugas = -11\n",
        "prob_ganar = 0.5\n",
        "prob_perder = 0.5\n",
        "valor_esperado = (ganancia_dragones * prob_ganar) + (perdida_tortugas * prob_perder)\n",
        "print(\"El valor esperado de la apuesta es:\", valor_esperado, \"Dólares\")"
      ],
      "metadata": {
        "id": "cf9gErjFb9up"
      },
      "execution_count": null,
      "outputs": []
    }
  ]
}